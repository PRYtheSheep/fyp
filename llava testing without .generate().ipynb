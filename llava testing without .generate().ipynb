{
 "cells": [
  {
   "cell_type": "code",
   "execution_count": 1,
   "id": "5196a505-9250-4985-b66f-1d920086208d",
   "metadata": {},
   "outputs": [
    {
     "name": "stderr",
     "output_type": "stream",
     "text": [
      "C:\\Users\\Dreamcore\\anaconda3\\envs\\fyp\\Lib\\site-packages\\tqdm\\auto.py:21: TqdmWarning: IProgress not found. Please update jupyter and ipywidgets. See https://ipywidgets.readthedocs.io/en/stable/user_install.html\n",
      "  from .autonotebook import tqdm as notebook_tqdm\n"
     ]
    }
   ],
   "source": [
    "import torch\n",
    "import torch.nn.functional as F\n",
    "import requests\n",
    "from PIL import Image\n",
    "from transformers import AutoProcessor, LlavaForConditionalGeneration\n",
    "from datasets import load_dataset\n",
    "\n",
    "import matplotlib.pyplot as plt\n",
    "from PIL import Image\n",
    "from tqdm import tqdm\n",
    "import logging\n",
    "logger = logging.getLogger(__name__)\n",
    "\n",
    "func_to_enable_grad = '_sample'\n",
    "setattr(LlavaForConditionalGeneration, func_to_enable_grad, torch.enable_grad(getattr(LlavaForConditionalGeneration, func_to_enable_grad)))"
   ]
  },
  {
   "cell_type": "code",
   "execution_count": 2,
   "id": "8ffd1a67-390b-4f6f-9654-cdf617817871",
   "metadata": {},
   "outputs": [
    {
     "name": "stderr",
     "output_type": "stream",
     "text": [
      "`torch_dtype` is deprecated! Use `dtype` instead!\n",
      "Loading checkpoint shards: 100%|█████████████████████████████████████████████████████████| 3/3 [00:00<00:00, 25.35it/s]\n",
      "C:\\Users\\Dreamcore\\anaconda3\\envs\\fyp\\Lib\\site-packages\\torch\\nn\\modules\\module.py:1355: UserWarning: expandable_segments not supported on this platform (Triggered internally at C:\\actions-runner\\_work\\pytorch\\pytorch\\pytorch\\c10/cuda/CUDAAllocatorConfig.h:35.)\n",
      "  return t.to(\n",
      "Fetching 2 files: 100%|██████████████████████████████████████████████████████████████████████████| 2/2 [00:00<?, ?it/s]\n",
      "Using a slow image processor as `use_fast` is unset and a slow processor was saved with this model. `use_fast=True` will be the default behavior in v4.52, even if the model was saved with a slow processor. This will result in minor differences in outputs. You'll still be able to use a slow processor with `use_fast=False`.\n"
     ]
    }
   ],
   "source": [
    "model_id = \"llava-hf/llava-1.5-7b-hf\"\n",
    "model = LlavaForConditionalGeneration.from_pretrained(\n",
    "    model_id, \n",
    "    torch_dtype=torch.float16, \n",
    "    low_cpu_mem_usage=True, \n",
    "    attn_implementation = \"eager\"\n",
    ").to(0)\n",
    "\n",
    "#--------------------------------------------------\n",
    "model.vision_tower.config.output_attentions = True\n",
    "\n",
    "# set hooks to get attention weights\n",
    "model.enc_attn_weights = []\n",
    "#outputs: attn_output, attn_weights, past_key_value\n",
    "def forward_hook(module, inputs, output): \n",
    "    if output[1] is None:\n",
    "        logger.error(\n",
    "            (\"Attention weights were not returned for the encoder. \"\n",
    "            \"To enable, set output_attentions=True in the forward pass of the model. \")\n",
    "        )\n",
    "        return output\n",
    "    \n",
    "    output[1].requires_grad_(True)\n",
    "    output[1].retain_grad()\n",
    "    model.enc_attn_weights.append(output[1].detach().cpu())\n",
    "    return output\n",
    "\n",
    "hooks_pre_encoder, hooks_encoder = [], []\n",
    "for layer in model.language_model.layers:\n",
    "    hook_encoder_layer = layer.self_attn.register_forward_hook(forward_hook)\n",
    "    hooks_pre_encoder.append(hook_encoder_layer)\n",
    "\n",
    "model.enc_attn_weights_vit = []\n",
    "\n",
    "def forward_hook_image_processor(module, inputs, output): \n",
    "    if output[1] is None:\n",
    "        logger.warning(\n",
    "            (\"Attention weights were not returned for the vision model. \"\n",
    "             \"Relevancy maps will not be calculated for the vision model. \" \n",
    "             \"To enable, set output_attentions=True in the forward pass of vision_tower. \")\n",
    "        )\n",
    "        return output\n",
    "\n",
    "    output[1].requires_grad_(True)\n",
    "    output[1].retain_grad()\n",
    "    model.enc_attn_weights_vit.append(output[1])\n",
    "    return output\n",
    "\n",
    "hooks_pre_encoder_vit = []\n",
    "for layer in model.vision_tower.vision_model.encoder.layers:\n",
    "    hook_encoder_layer_vit = layer.self_attn.register_forward_hook(forward_hook_image_processor)\n",
    "    hooks_pre_encoder_vit.append(hook_encoder_layer_vit)\n",
    "#--------------------------------------------------\n",
    "\n",
    "processor = AutoProcessor.from_pretrained(model_id)\n",
    "\n",
    "if model.language_model.config.model_type == \"gemma\":\n",
    "    eos_token_id = processor.tokenizer('<end_of_turn>', add_special_tokens=False).input_ids[0]\n",
    "else:\n",
    "    eos_token_id = processor.tokenizer.eos_token_id"
   ]
  },
  {
   "cell_type": "code",
   "execution_count": 2,
   "id": "437c67d7-b624-460a-8486-b8e08876d781",
   "metadata": {},
   "outputs": [
    {
     "name": "stderr",
     "output_type": "stream",
     "text": [
      "C:\\Users\\Dreamcore\\anaconda3\\envs\\fyp\\Lib\\site-packages\\torch\\_utils.py:101: UserWarning: expandable_segments not supported on this platform (Triggered internally at C:\\actions-runner\\_work\\pytorch\\pytorch\\pytorch\\c10/cuda/CUDAAllocatorConfig.h:35.)\n",
      "  untyped_storage = torch.UntypedStorage(self.size(), device=device)\n"
     ]
    },
    {
     "ename": "NameError",
     "evalue": "name 'processor' is not defined",
     "output_type": "error",
     "traceback": [
      "\u001b[31m---------------------------------------------------------------------------\u001b[39m",
      "\u001b[31mNameError\u001b[39m                                 Traceback (most recent call last)",
      "\u001b[36mCell\u001b[39m\u001b[36m \u001b[39m\u001b[32mIn[2]\u001b[39m\u001b[32m, line 3\u001b[39m\n\u001b[32m      1\u001b[39m tokens = torch.load(\u001b[33m\"\u001b[39m\u001b[33mfull_generation.pt\u001b[39m\u001b[33m\"\u001b[39m).tolist()\n\u001b[32m      2\u001b[39m \u001b[38;5;66;03m# Decode each token individually\u001b[39;00m\n\u001b[32m----> \u001b[39m\u001b[32m3\u001b[39m decoded_tokens = [processor.decode([t]) \u001b[38;5;28;01mfor\u001b[39;00m t \u001b[38;5;129;01min\u001b[39;00m tokens]\n\u001b[32m      5\u001b[39m \u001b[38;5;66;03m# Optionally, print\u001b[39;00m\n\u001b[32m      6\u001b[39m \u001b[38;5;28;01mfor\u001b[39;00m i, tok \u001b[38;5;129;01min\u001b[39;00m \u001b[38;5;28menumerate\u001b[39m(decoded_tokens):\n",
      "\u001b[36mCell\u001b[39m\u001b[36m \u001b[39m\u001b[32mIn[2]\u001b[39m\u001b[32m, line 3\u001b[39m, in \u001b[36m<listcomp>\u001b[39m\u001b[34m(.0)\u001b[39m\n\u001b[32m      1\u001b[39m tokens = torch.load(\u001b[33m\"\u001b[39m\u001b[33mfull_generation.pt\u001b[39m\u001b[33m\"\u001b[39m).tolist()\n\u001b[32m      2\u001b[39m \u001b[38;5;66;03m# Decode each token individually\u001b[39;00m\n\u001b[32m----> \u001b[39m\u001b[32m3\u001b[39m decoded_tokens = [processor.decode([t]) \u001b[38;5;28;01mfor\u001b[39;00m t \u001b[38;5;129;01min\u001b[39;00m tokens]\n\u001b[32m      5\u001b[39m \u001b[38;5;66;03m# Optionally, print\u001b[39;00m\n\u001b[32m      6\u001b[39m \u001b[38;5;28;01mfor\u001b[39;00m i, tok \u001b[38;5;129;01min\u001b[39;00m \u001b[38;5;28menumerate\u001b[39m(decoded_tokens):\n",
      "\u001b[31mNameError\u001b[39m: name 'processor' is not defined"
     ]
    }
   ],
   "source": [
    "tokens = torch.load(\"full_generation.pt\").tolist()\n",
    "# Decode each token individually\n",
    "decoded_tokens = [processor.decode([t]) for t in tokens]\n",
    "\n",
    "# Optionally, print\n",
    "for i, tok in enumerate(decoded_tokens):\n",
    "    print(f\"{i}: {repr(tok)}\")"
   ]
  },
  {
   "cell_type": "code",
   "execution_count": 6,
   "id": "a11c171c-acc1-4314-97ee-d040f9975c0f",
   "metadata": {},
   "outputs": [],
   "source": [
    "file = r\"saved/vit_attn\"\n",
    "import os\n",
    "torch.save(tokens, os.path.join(file, \"lmao.pt\"))"
   ]
  },
  {
   "cell_type": "code",
   "execution_count": 4,
   "id": "89f2e867-c847-40c2-992a-94df0ca34de1",
   "metadata": {},
   "outputs": [
    {
     "data": {
      "text/plain": [
       "[{'role': 'user',\n",
       "  'content': [{'type': 'text', 'text': 'What is the colour of this object?'},\n",
       "   {'type': 'image'}]},\n",
       " {'role': 'assistant',\n",
       "  'content': [{'type': 'text', 'text': 'The object is red'}]}]"
      ]
     },
     "execution_count": 4,
     "metadata": {},
     "output_type": "execute_result"
    }
   ],
   "source": [
    "conversation = [\n",
    "    {\n",
    "\n",
    "      \"role\": \"user\",\n",
    "      \"content\": [\n",
    "          {\"type\": \"text\", \"text\": \"What is the colour of this object?\"},\n",
    "          {\"type\": \"image\"},\n",
    "        ],\n",
    "    },\n",
    "]\n",
    "conv_step = conversation + [\n",
    "    {\"role\": \"assistant\", \"content\": [{\"type\": \"text\", \"text\": processor.decode(tokens[596:600])}]}\n",
    "]\n",
    "conv_step"
   ]
  },
  {
   "cell_type": "code",
   "execution_count": 5,
   "id": "d73d56ac-d2bb-4df2-b472-0f9adb4f43ca",
   "metadata": {},
   "outputs": [
    {
     "name": "stdout",
     "output_type": "stream",
     "text": [
      "32\n"
     ]
    }
   ],
   "source": [
    "image_file = r\"C:\\Users\\Dreamcore\\Downloads\\61-gPGG7umL._UF894,1000_QL80_.jpg\"\n",
    "raw_image = Image.open(image_file).convert(\"RGB\")\n",
    "prompt_appended = processor.apply_chat_template(conv_step, add_generation_prompt=False, return_tensors=\"pt\")\n",
    "inputs_appended = processor(images=raw_image, text=prompt_appended, return_tensors='pt').to(0, torch.float16)\n",
    "\n",
    "output_appended = model(**inputs_appended,\n",
    "                        use_cache=False,\n",
    "                        output_attentions=True,\n",
    "                        output_hidden_states=True,\n",
    "                        return_dict_in_generate=True,\n",
    "                        output_scores=True,\n",
    "                        eos_token_id=eos_token_id)\n",
    "print(len(model.enc_attn_weights))"
   ]
  },
  {
   "cell_type": "code",
   "execution_count": 6,
   "id": "37e342cd-51cf-4d25-8204-19b0304af24f",
   "metadata": {},
   "outputs": [
    {
     "name": "stdout",
     "output_type": "stream",
     "text": [
      "torch.Size([1, 601, 32064])\n",
      "['in']\n"
     ]
    }
   ],
   "source": [
    "print(output_appended.logits.shape)\n",
    "# Decode them\n",
    "topk = torch.topk(output_appended.logits[:, -1], k=1, dim=-1)\n",
    "for ids in topk.indices:\n",
    "    print(processor.tokenizer.batch_decode(ids))"
   ]
  }
 ],
 "metadata": {
  "kernelspec": {
   "display_name": "Python 3 (ipykernel)",
   "language": "python",
   "name": "python3"
  },
  "language_info": {
   "codemirror_mode": {
    "name": "ipython",
    "version": 3
   },
   "file_extension": ".py",
   "mimetype": "text/x-python",
   "name": "python",
   "nbconvert_exporter": "python",
   "pygments_lexer": "ipython3",
   "version": "3.11.10"
  }
 },
 "nbformat": 4,
 "nbformat_minor": 5
}
